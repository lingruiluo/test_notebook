{
 "cells": [
  {
   "cell_type": "code",
   "execution_count": 2,
   "metadata": {},
   "outputs": [],
   "source": [
    "import numpy as np\n",
    "from scipy.io import loadmat\n",
    "from ml5_test import ml5_init\n",
    "import matplotlib.pyplot as plt\n",
    "from IPython.display import display, HTML\n",
    "%matplotlib inline"
   ]
  },
  {
   "cell_type": "code",
   "execution_count": 3,
   "metadata": {},
   "outputs": [],
   "source": [
    "# read data\n",
    "train_file = \"train_32x32.mat\"\n",
    "test_file = \"test_32x32.mat\"\n",
    "train = loadmat(train_file)\n",
    "test = loadmat(test_file)\n",
    "\n",
    "# obtain x and y\n",
    "train_X = train['X'][:,:,:,:1000]\n",
    "train_y = train['y'][:1000]\n",
    "test_X = test['X'][:,:,:,:200]\n",
    "test_y = test['y'][:200]\n",
    "\n",
    "train_y[train_y==10]=0\n",
    "test_y[test_y==10]=0\n",
    "\n",
    "train_X = train_X.transpose((3,0,1,2))\n",
    "test_X = test_X.transpose((3,0,1,2))\n",
    "train_y = train_y.reshape(train_y.shape[0])\n",
    "test_y = test_y.reshape(test_y.shape[0])"
   ]
  },
  {
   "cell_type": "code",
   "execution_count": 3,
   "metadata": {},
   "outputs": [
    {
     "data": {
      "text/plain": [
       "<matplotlib.image.AxesImage at 0x7fb325aa8860>"
      ]
     },
     "execution_count": 3,
     "metadata": {},
     "output_type": "execute_result"
    },
    {
     "data": {
      "image/png": "[encoded data removed]",
      "text/plain": [
       "<Figure size 432x288 with 1 Axes>"
      ]
     },
     "metadata": {
      "needs_background": "light"
     },
     "output_type": "display_data"
    }
   ],
   "source": [
    "plt.imshow(train_X[0])"
   ]
  },
  {
   "cell_type": "code",
   "execution_count": 4,
   "metadata": {},
   "outputs": [
    {
     "data": {
      "text/plain": [
       "((1000, 32, 32, 3), (1000,))"
      ]
     },
     "execution_count": 4,
     "metadata": {},
     "output_type": "execute_result"
    }
   ],
   "source": [
    "train_X.shape, train_y.shape"
   ]
  },
  {
   "cell_type": "code",
   "execution_count": 20,
   "metadata": {
    "scrolled": true
   },
   "outputs": [
    {
     "data": {
      "application/vnd.jupyter.widget-view+json": {
       "model_id": "315844e1938c443f8c07c40020e0c959",
       "version_major": 2,
       "version_minor": 0
      },
      "text/plain": [
       "VBox(children=(ML5Class(status='deferring flush until render'), Text(value='deferring flush until render', des…"
      ]
     },
     "metadata": {},
     "output_type": "display_data"
    }
   ],
   "source": [
    "IMAGE_WIDTH = 32;\n",
    "IMAGE_HEIGHT = 32;\n",
    "IMAGE_CHANNELS = 3;\n",
    "options = {\n",
    "  'task': 'imageClassification',\n",
    "  'inputs':[IMAGE_WIDTH, IMAGE_HEIGHT, IMAGE_CHANNELS],\n",
    "  'outputs': 10,\n",
    "#     'layers':[\n",
    "#   {\n",
    "#     'type': 'conv2d',\n",
    "#     'filters': 32,\n",
    "#     'kernelSize': 3,\n",
    "#     'strides': 1,\n",
    "#     'activation': 'relu',\n",
    "#     'kernelInitializer': 'varianceScaling',\n",
    "#   },\n",
    "#   {\n",
    "#     'type': 'maxPooling2d',\n",
    "#     'poolSize': [2, 2],\n",
    "#     'strides': [1, 1],\n",
    "#   },\n",
    "#   {\n",
    "#     'type': 'conv2d',\n",
    "#     'filters': 32,\n",
    "#     'kernelSize': 3,\n",
    "#     'strides': 1,\n",
    "#     'activation': 'relu',\n",
    "#     'kernelInitializer': 'varianceScaling',\n",
    "#   },\n",
    "#   {\n",
    "#     'type': 'maxPooling2d',\n",
    "#     'poolSize': [2, 2],\n",
    "#     'strides': [1, 1],\n",
    "#   },\n",
    "#   {\n",
    "#     'type': 'flatten',\n",
    "#   },\n",
    "#   {\n",
    "#     'type': 'dense',\n",
    "#     'kernelInitializer': 'varianceScaling',\n",
    "#     'activation': 'softmax',\n",
    "#   },\n",
    "# ]\n",
    "}\n",
    "test = ml5_init.ML5Class(options)\n",
    "test.initialize_framework()"
   ]
  },
  {
   "cell_type": "code",
   "execution_count": null,
   "metadata": {},
   "outputs": [],
   "source": [
    "# test.js_init(\"\"\"\n",
    "#     console.log(element.nn_info.network.data);\n",
    "#     console.log(outputs);\n",
    "#     console.log(inputs)\n",
    "#     element.nn_info.network.addData(inputs, outputs);\n",
    "# \"\"\",inputs = train_X[0].flatten().tolist(),outputs = [train_y[0]])"
   ]
  },
  {
   "cell_type": "code",
   "execution_count": 22,
   "metadata": {},
   "outputs": [],
   "source": [
    "test.js_init(\"\"\"\n",
    "    console.log(element.nn_info.network.data);\n",
    "    console.log(element.nn_info.network);\n",
    "\"\"\")"
   ]
  },
  {
   "cell_type": "code",
   "execution_count": 21,
   "metadata": {
    "scrolled": false
   },
   "outputs": [],
   "source": [
    "for k in range(1000):\n",
    "    i = train_X[k].flatten().tolist()\n",
    "    o = train_y[k]\n",
    "    test.add_data([i], [o])"
   ]
  },
  {
   "cell_type": "code",
   "execution_count": 23,
   "metadata": {},
   "outputs": [
    {
     "name": "stdout",
     "output_type": "stream",
     "text": [
      "...................done\n"
     ]
    }
   ],
   "source": [
    "trainingOptions = {\n",
    "  'epochs': 32,\n",
    "  'batchSize': 16\n",
    "}\n",
    "test.train_data(trainingOptions)"
   ]
  },
  {
   "cell_type": "code",
   "execution_count": 36,
   "metadata": {},
   "outputs": [],
   "source": [
    "test.js_init(\"\"\"\n",
    "            function handleResults(error, result) {\n",
    "                if(error){\n",
    "                    console.error(error);\n",
    "                    return;\n",
    "                }\n",
    "                console.log(result);\n",
    "            }\n",
    "            debugger;\n",
    "            element.nn_info.network.classify([inputs], handleResults);\n",
    "\n",
    "        \"\"\", inputs=test_X[0].tolist())"
   ]
  },
  {
   "cell_type": "code",
   "execution_count": 40,
   "metadata": {},
   "outputs": [
    {
     "data": {
      "text/plain": [
       "(32, 32, 3)"
      ]
     },
     "execution_count": 40,
     "metadata": {},
     "output_type": "execute_result"
    }
   ],
   "source": [
    "test_X[0].shape"
   ]
  },
  {
   "cell_type": "code",
   "execution_count": 25,
   "metadata": {},
   "outputs": [],
   "source": [
    "# for i in range(200):\n",
    "#     test_data = test_X[i].flatten().tolist()\n",
    "#     test.classify_data([test_data])"
   ]
  },
  {
   "cell_type": "code",
   "execution_count": 32,
   "metadata": {},
   "outputs": [
    {
     "data": {
      "text/plain": [
       "[]"
      ]
     },
     "execution_count": 32,
     "metadata": {},
     "output_type": "execute_result"
    }
   ],
   "source": [
    "test.classify_callback_list"
   ]
  }
 ],
 "metadata": {
  "kernelspec": {
   "display_name": "Python 3",
   "language": "python",
   "name": "python3"
  },
  "language_info": {
   "codemirror_mode": {
    "name": "ipython",
    "version": 3
   },
   "file_extension": ".py",
   "mimetype": "text/x-python",
   "name": "python",
   "nbconvert_exporter": "python",
   "pygments_lexer": "ipython3",
   "version": "3.7.0"
  }
 },
 "nbformat": 4,
 "nbformat_minor": 4
}
