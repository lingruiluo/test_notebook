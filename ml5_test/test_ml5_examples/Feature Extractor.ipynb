{
 "cells": [
  {
   "cell_type": "code",
   "execution_count": 1,
   "metadata": {},
   "outputs": [],
   "source": [
    "from ml5_test import ml5_init\n",
    "import cv2\n",
    "import os\n",
    "import numpy as np\n",
    "import matplotlib.pyplot as plt\n",
    "%matplotlib inline"
   ]
  },
  {
   "cell_type": "code",
   "execution_count": 2,
   "metadata": {},
   "outputs": [
    {
     "data": {
      "application/vnd.jupyter.widget-view+json": {
       "model_id": "18fcd2c359e048ffa0fb5752a4868450",
       "version_major": 2,
       "version_minor": 0
      },
      "text/plain": [
       "VBox(children=(ML5Class(status='deferring flush until render'), Text(value='deferring flush until render', des…"
      ]
     },
     "metadata": {},
     "output_type": "display_data"
    },
    {
     "name": "stdout",
     "output_type": "stream",
     "text": [
      "new error message: ReferenceError: width is not defined\n",
      "new error message: ReferenceError: imgData is not defined\n",
      "new error message: Error in element.New SyntaxError: Unexpected token '?'\n",
      "new error message: Error: Error in element.New SyntaxError: Unexpected token '?'\n",
      "new error message: ReferenceError: image is not defined\n",
      "new error message: TypeError: p5.image is not a function\n",
      "new error message: TypeError: ctx.createElement is not a function\n",
      "new error message: ReferenceError: canvas is not defined\n",
      "new error message: TypeError: Failed to execute 'putImageData' on 'CanvasRenderingContext2D': parameter 1 is not of type 'ImageData'.\n",
      "new error message: TypeError: Failed to execute 'createObjectURL' on 'URL': Overload resolution failed.\n",
      "new error message: ReferenceError: imgdata is not defined\n",
      "new error message: ReferenceError: img is not defined\n",
      "new error message: TypeError: element.name_image_url is not a function\n",
      "new error message: TypeError: canvas.appendChild is not a function\n",
      "new error message: TypeError: imageData.appendTo is not a function\n"
     ]
    }
   ],
   "source": [
    "test = ml5_init.ML5Class()"
   ]
  },
  {
   "cell_type": "code",
   "execution_count": 3,
   "metadata": {},
   "outputs": [],
   "source": [
    "dobby = os.listdir('pic/dobby')[1:]\n",
    "zucchini = os.listdir('pic/zucchini')[1:]\n",
    "train = os.listdir('pic/train')[1:]"
   ]
  },
  {
   "cell_type": "code",
   "execution_count": 4,
   "metadata": {},
   "outputs": [],
   "source": [
    "dobby_list = ['pic/dobby/'+i for i in dobby]\n",
    "zucchini_list = ['pic/zucchini/'+i for i in zucchini]\n",
    "train_list = ['pic/train/'+i for i in train]"
   ]
  },
  {
   "cell_type": "code",
   "execution_count": 36,
   "metadata": {},
   "outputs": [
    {
     "data": {
      "text/plain": [
       "(224, 224, 3)"
      ]
     },
     "execution_count": 36,
     "metadata": {},
     "output_type": "execute_result"
    }
   ],
   "source": [
    "img = cv2.imread('pic/dobby/'+dobby[0])\n",
    "img_rgba = cv2.cvtColor(img, cv2.COLOR_BGR2RGB)\n",
    "resize_size = (224, 224)\n",
    "img_rgba = cv2.resize(img_rgba, resize_size)\n",
    "x, y, channel = img_rgba.shape\n",
    "x, y, channel"
   ]
  },
  {
   "cell_type": "code",
   "execution_count": 50,
   "metadata": {},
   "outputs": [
    {
     "data": {
      "text/plain": [
       "['method', <class 'jp_proxy_widget.proxy_widget.CommandMaker'>::140430740579496, 'html', \"<div><img> width='224' height = '224' src = 'pic/dobby/d9.jpg'</img></div>\"]"
      ]
     },
     "execution_count": 50,
     "metadata": {},
     "output_type": "execute_result"
    }
   ],
   "source": [
    "test.element.html(\"<div><img> width='224' height = '224' src = 'pic/dobby/d9.jpg'</img></div>\")"
   ]
  },
  {
   "cell_type": "code",
   "execution_count": 65,
   "metadata": {},
   "outputs": [],
   "source": [
    "test.js_init(\"\"\"\n",
    "\n",
    "    const featureExtractor = ml5.featureExtractor('MobileNet', modelLoaded);\n",
    "\n",
    "    // When the model is loaded\n",
    "    function modelLoaded() {\n",
    "      console.log('Model Loaded!');\n",
    "    }\n",
    "\n",
    "    const classifier = featureExtractor.classification();\n",
    "    \n",
    "    // Add a new image with a label\n",
    "//    for (i = 0; i < dobby_list.length; i++) {\n",
    "//        var img = document.createElement(\"img\");\n",
    "//        img.src = dobby_list[i];\n",
    "//        img.width = 100;\n",
    "//        img.height = 100;\n",
    "//        console.log(img.src);\n",
    "//        classifier.addImage(img, 'dobby');\n",
    "//    }\n",
    "//    for (i = 0; i < zucchini_list.length; i++) {\n",
    "//        var img = document.createElement(\"img\");\n",
    "//        img.src = zucchini_list[i];\n",
    "//        img.width = 100;\n",
    "//        img.height = 100;\n",
    "//        classifier.addImage(img, 'zucchini');\n",
    "//    }\n",
    "    for (i = 0; i < train_list.length; i++) {\n",
    "        var imageData = new Image(width, height)\n",
    "        imageData.src = train_list[i];\n",
    "        classifier.addImage(imageData, 'train');\n",
    "    }\n",
    "    var canvas = $(\"<canvas></canvas>\").appendTo(element);\n",
    "    var ctx = canvas[0].getContext('2d');\n",
    "    var imageData = new Image(width, height)\n",
    "    imageData.src = dobby_list[0];\n",
    "    console.log(\"image data:\", imageData);\n",
    "    //classifier.addImage(imageData, 'dobby');\n",
    "    console.log(classifier);\n",
    "    classifier.train();\n",
    "\"\"\", dobby_list = dobby_list, \n",
    "             zucchini_list=zucchini_list, \n",
    "             train_list = train_list,\n",
    "            d = img_rgba.flatten().tolist(),width=224,height=224)"
   ]
  },
  {
   "cell_type": "code",
   "execution_count": 11,
   "metadata": {},
   "outputs": [
    {
     "data": {
      "text/plain": [
       "'pic/dobby/d9.jpg'"
      ]
     },
     "execution_count": 11,
     "metadata": {},
     "output_type": "execute_result"
    }
   ],
   "source": [
    "dobby_list[0]"
   ]
  }
 ],
 "metadata": {
  "kernelspec": {
   "display_name": "Python 3",
   "language": "python",
   "name": "python3"
  },
  "language_info": {
   "codemirror_mode": {
    "name": "ipython",
    "version": 3
   },
   "file_extension": ".py",
   "mimetype": "text/x-python",
   "name": "python",
   "nbconvert_exporter": "python",
   "pygments_lexer": "ipython3",
   "version": "3.7.0"
  }
 },
 "nbformat": 4,
 "nbformat_minor": 4
}
