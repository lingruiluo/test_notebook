{
 "cells": [
  {
   "cell_type": "code",
   "execution_count": 1,
   "metadata": {},
   "outputs": [],
   "source": [
    "from ml5_test import ml5_init"
   ]
  },
  {
   "cell_type": "code",
   "execution_count": 2,
   "metadata": {},
   "outputs": [
    {
     "data": {
      "application/vnd.jupyter.widget-view+json": {
       "model_id": "52e7a49150e246eea9255673e0fd75fe",
       "version_major": 2,
       "version_minor": 0
      },
      "text/plain": [
       "VBox(children=(ML5Class(status='deferring flush until render'), Text(value='deferring flush until render', des…"
      ]
     },
     "metadata": {},
     "output_type": "display_data"
    }
   ],
   "source": [
    "test = ml5_init.ML5Class()\n",
    "test.options['dataUrl'] = 'colorData.json'\n",
    "test.options['inputs']=['r','g','b']\n",
    "test.options['outputs'] = ['label']\n",
    "test.options['task'] = 'classification'\n",
    "test.options['debug']=True\n",
    "test.initialize_framework()"
   ]
  },
  {
   "cell_type": "code",
   "execution_count": 3,
   "metadata": {},
   "outputs": [],
   "source": [
    "test.normalize_data()\n",
    "trainingOptions = {'epochs': 20, 'batchSize' : 64}\n",
    "test.train_data(trainingOptions)"
   ]
  },
  {
   "cell_type": "code",
   "execution_count": 4,
   "metadata": {},
   "outputs": [],
   "source": [
    "test_color = [{'r': 0, 'g': 255, 'b': 255},\n",
    "             {'r': 96, 'g': 96, 'b': 96},\n",
    "             {'r': 255, 'g': 255, 'b': 51},\n",
    "             {'r': 153, 'g': 0, 'b': 0},\n",
    "             {'r': 76, 'g': 0, 'b': 153}]\n",
    "test_label = ['blue-ish','grey-ish','yellow-ish',\n",
    "             'red-ish','purple-ish']"
   ]
  },
  {
   "cell_type": "code",
   "execution_count": 5,
   "metadata": {},
   "outputs": [],
   "source": [
    "for i in range(len(test_color)):\n",
    "    test.classify_data(test_color[i])"
   ]
  },
  {
   "cell_type": "code",
   "execution_count": 6,
   "metadata": {},
   "outputs": [
    {
     "data": {
      "text/plain": [
       "['blue-ish', 'green-ish', 'yellow-ish', 'red-ish', 'purple-ish']"
      ]
     },
     "execution_count": 6,
     "metadata": {},
     "output_type": "execute_result"
    }
   ],
   "source": [
    "predict_label = [test.classify_callback_list[i][0]['label'] for i in range(len(test_color))]\n",
    "predict_label"
   ]
  },
  {
   "cell_type": "code",
   "execution_count": 7,
   "metadata": {},
   "outputs": [
    {
     "data": {
      "text/plain": [
       "0.8"
      ]
     },
     "execution_count": 7,
     "metadata": {},
     "output_type": "execute_result"
    }
   ],
   "source": [
    "import numpy as np\n",
    "sum(np.array(predict_label) == np.array(test_label))/len(test_label)"
   ]
  }
 ],
 "metadata": {
  "kernelspec": {
   "display_name": "Python 3",
   "language": "python",
   "name": "python3"
  },
  "language_info": {
   "codemirror_mode": {
    "name": "ipython",
    "version": 3
   },
   "file_extension": ".py",
   "mimetype": "text/x-python",
   "name": "python",
   "nbconvert_exporter": "python",
   "pygments_lexer": "ipython3",
   "version": "3.7.0"
  }
 },
 "nbformat": 4,
 "nbformat_minor": 4
}
